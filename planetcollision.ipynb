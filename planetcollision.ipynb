{
 "cells": [
  {
   "cell_type": "markdown",
   "metadata": {},
   "source": [
    "# Planet Collision"
   ]
  },
  {
   "cell_type": "markdown",
   "metadata": {},
   "source": [
    "Numerically solve differential equations by approximating constant acceleration.\n",
    "\n",
    "Plots position of two planet's CM drawn towards eachother by gravity."
   ]
  },
  {
   "cell_type": "markdown",
   "metadata": {},
   "source": [
    "### INPUT: Initial Conditions\n",
    "\n",
    "Input initial conditions (position/velocity coordinates) into appropriate spaces below:"
   ]
  },
  {
   "cell_type": "code",
   "execution_count": 9,
   "metadata": {},
   "outputs": [],
   "source": [
    "init_pos1 = 4.0/3.0\n",
    "init_vel1 = 0\n",
    "init_pos2 = -2.0/3.0\n",
    "init_vel2 = 0"
   ]
  },
  {
   "cell_type": "markdown",
   "metadata": {},
   "source": [
    "### Dependency Declarations"
   ]
  },
  {
   "cell_type": "code",
   "execution_count": 30,
   "metadata": {},
   "outputs": [],
   "source": [
    "import sys\n",
    "import matplotlib.pyplot as plt\n",
    "from matplotlib import animation\n",
    "import numpy as np"
   ]
  },
  {
   "cell_type": "markdown",
   "metadata": {},
   "source": [
    "### Function Definitions"
   ]
  },
  {
   "cell_type": "code",
   "execution_count": 5,
   "metadata": {},
   "outputs": [],
   "source": [
    "def compstep(coords, dt):\n",
    "    # Updates coordinates given current coordinates\n",
    "    # coords = [x, v, a], dt = small time interval\n",
    "    coords[0] = coords[0] + (coords[1] * dt) + (coords[2] * dt * dt / 2)\n",
    "    coords[1] = coords[1] + (coords[2] * dt)\n",
    "    return coords;\n",
    "\n",
    "def gravity(coords1, coords2):\n",
    "    # Updates acceleration given current coordinates of both planets\n",
    "    # coords = [x, v, a], dt = small time interval\n",
    "    c = 1.5266418e-6  # Gravitational Constant with masses\n",
    "    coords1[2] = -c/(coords1[0] - coords2[0])**2\n",
    "    coords2[2] = c/(2*(coords1[0] - coords2[0])**2)\n",
    "    \n",
    "    return coords1, coords2    "
   ]
  },
  {
   "cell_type": "markdown",
   "metadata": {},
   "source": [
    "### Driver"
   ]
  },
  {
   "cell_type": "code",
   "execution_count": 26,
   "metadata": {},
   "outputs": [],
   "source": [
    "time = [0]\n",
    "dt = 0.001\n",
    "\n",
    "coord1 = [init_pos1, init_vel1, 0]\n",
    "coord2 = [init_pos2, init_vel2, 0]\n",
    "\n",
    "coord1, coord2 = gravity(coord1, coord2)\n",
    "\n",
    "x1 = [init_pos1]\n",
    "x2 = [init_pos2]\n",
    "\n",
    "while(abs(coord1[0]-coord2[0]) > 0.01):\n",
    "    coord1 = compstep(coord1, dt)\n",
    "    coord2 = compstep(coord2, dt)\n",
    "    x1.append(coord1[0])\n",
    "    x2.append(coord2[0])\n",
    "    coord1, coord2 = gravity(coord1, coord2)\n",
    "    \n",
    "    time.append(time[-1]+dt)"
   ]
  },
  {
   "cell_type": "markdown",
   "metadata": {},
   "source": [
    "### Plot Output"
   ]
  },
  {
   "cell_type": "code",
   "execution_count": 27,
   "metadata": {},
   "outputs": [
    {
     "data": {
      "text/plain": [
       "<matplotlib.legend.Legend at 0x11f731be0>"
      ]
     },
     "execution_count": 27,
     "metadata": {},
     "output_type": "execute_result"
    },
    {
     "data": {
      "image/png": "[encoded data removed]",
      "text/plain": [
       "<Figure size 432x288 with 1 Axes>"
      ]
     },
     "metadata": {
      "needs_background": "light"
     },
     "output_type": "display_data"
    }
   ],
   "source": [
    "    plt.figure()\n",
    "    plt.plot(time, x1, label=\"Point Mass\")\n",
    "    plt.plot(time, x2, label=\"Earth\")\n",
    "    plt.title('Displacement')\n",
    "    plt.xlabel('Time [s]')\n",
    "    plt.ylabel('Normalized distance from CM (x/R_E) [unitless]')\n",
    "    plt.legend()"
   ]
  },
  {
   "cell_type": "code",
   "execution_count": 37,
   "metadata": {},
   "outputs": [
    {
     "data": {
      "image/png": "[encoded data removed]",
      "text/plain": [
       "<Figure size 432x288 with 1 Axes>"
      ]
     },
     "metadata": {
      "needs_background": "light"
     },
     "output_type": "display_data"
    }
   ],
   "source": [
    "fig = plt.figure()\n",
    "ax = plt.axes(xlim=(0, 2), ylim=(-1, 1.5))\n",
    "line, = ax.plot([], [], lw=2)\n",
    "\n",
    "def init():\n",
    "    line.set_data([], [])\n",
    "    return line,\n",
    "\n",
    "def animate(i):\n",
    "    x = np.linspace(0, 2, 1000)\n",
    "    y = np.sin(2 * np.pi * (x - 0.01 * i))\n",
    "    line.set_data(x, y)\n",
    "    return line,\n",
    "\n",
    "anim = animation.FuncAnimation(fig, animate, init_func=init,\n",
    "                               frames=200, interval=20, blit=True)\n"
   ]
  },
  {
   "cell_type": "code",
   "execution_count": 38,
   "metadata": {},
   "outputs": [],
   "source": [
    "plt.show()"
   ]
  },
  {
   "cell_type": "code",
   "execution_count": null,
   "metadata": {},
   "outputs": [],
   "source": []
  }
 ],
 "metadata": {
  "kernelspec": {
   "display_name": "Python 3",
   "language": "python",
   "name": "python3"
  },
  "language_info": {
   "codemirror_mode": {
    "name": "ipython",
    "version": 3
   },
   "file_extension": ".py",
   "mimetype": "text/x-python",
   "name": "python",
   "nbconvert_exporter": "python",
   "pygments_lexer": "ipython3",
   "version": "3.7.1"
  }
 },
 "nbformat": 4,
 "nbformat_minor": 2
}
